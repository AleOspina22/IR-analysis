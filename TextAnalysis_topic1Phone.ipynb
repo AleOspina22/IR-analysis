{
 "cells": [
  {
   "cell_type": "markdown",
   "id": "dd369466",
   "metadata": {},
   "source": [
    "Text analysis\n",
    "https://www.sbert.net/docs/usage/semantic_textual_similarity.html\n",
    "Given the same information need, how different is query text of different users\n",
    "\n",
    "How query text evolves through conversation.\n",
    "\n",
    "Yes, you can compute similarity between queries with SBERT or some other sentence similarity methods."
   ]
  },
  {
   "cell_type": "markdown",
   "id": "31c275d3",
   "metadata": {},
   "source": [
    "# Creation of the list according to the amount of json file for each topic"
   ]
  },
  {
   "cell_type": "markdown",
   "id": "6ef5198f",
   "metadata": {},
   "source": [
    "In each list, you find in order the queries of each user for this specific topic."
   ]
  },
  {
   "cell_type": "markdown",
   "id": "55b1787e",
   "metadata": {},
   "source": [
    "This code should loop over each file in the topic1_phone directory and check if it's a JSON file. If it is, it loads the JSON data and extracts the messages that were sent by the specified users (in this case, U04RH7PFJ6Q and YHEJSIM5). It then prints the messages and adds them to a list with a unique name (list1, list2, etc.)."
   ]
  },
  {
   "cell_type": "code",
   "execution_count": 79,
   "id": "7b06cf3b",
   "metadata": {},
   "outputs": [
    {
     "name": "stdout",
     "output_type": "stream",
     "text": [
      "New list name: list1\n",
      "['I would like to buy a new phone. What are the main aspects that I should consider?', 'My operating system of choice for a new phone is Android. I am looking for a phone with durable battery life, fast performance and a large storage.', 'What are the prices of the phones you described?', 'Based on the previous requirements for battery life, performance, and storage, could you find me Android phones that are below 400 dollars?', 'Out of these options, which one has the largest display and the prettier design?', 'What are their additional features? What does any of those 4 phones have that other phones do not have?', 'Finally, could you give me a top 10 of the best phones, regardless of any price range or operating system.', 'Thank you, I am satisfied with questions regarding phones']\n",
      "list1\n",
      "New list name: list2\n",
      "['Hi again, can you help me choosing a new phone?', 'I would like to buy an iOS phone but which costs not more than 1200 euros.', 'What about iPhone 14?', 'Do you know if iPhone phones will have a type-c charger in the future or will they keep the same lighting technology?', 'What would be the cheapest iOS phone with 512 GB of internal memory?']\n",
      "list2\n"
     ]
    }
   ],
   "source": [
    "\n",
    "import os\n",
    "import json\n",
    "\n",
    "\n",
    "\n",
    "# Define the users we're interested in\n",
    "users = [\"U04RH7PFJ6Q\", \"YHEJSIM5\"]\n",
    "\n",
    "# Define the directory containing the JSON files\n",
    "directory = '/Users/alejandroospina/Desktop/1. USI/4. IV SEMESTER/1. Thesis/ConversationalThesis/SplitOfConversationbyTopic/textAnalysisByTopic/topic1_phone'\n",
    "\n",
    "# Define a counter variable to generate unique list names\n",
    "counter = 1\n",
    "\n",
    "# Loop over each file in the directory\n",
    "for filename in os.listdir(directory):\n",
    "    # Check that the file is a JSON file\n",
    "    if filename.endswith(\".json\"):\n",
    "        # Open the file and load the JSON data\n",
    "        with open(os.path.join(directory, filename)) as f:\n",
    "            data = json.load(f)\n",
    "            \n",
    "        # Extract the messages from the data that were sent by the specified users\n",
    "        messages = [msg[\"text\"] for msg in data if msg[\"user\"] in users]\n",
    "        \n",
    "        # Remove the first element of the messages list\n",
    "        messages = messages[1:]\n",
    "        \n",
    "        # Rename the list with a unique name\n",
    "        new_list_name = \"list{}\".format(counter)\n",
    "        counter += 1\n",
    "        globals()[new_list_name] = messages\n",
    "        \n",
    "        # Print the messages and the new list name\n",
    "        print(\"New list name:\", new_list_name)\n",
    "        print(messages)\n",
    "     \n"
   ]
  },
  {
   "cell_type": "markdown",
   "id": "02ce44f5",
   "metadata": {},
   "source": [
    "# Calculate the similarity between the sentences of each user"
   ]
  },
  {
   "cell_type": "markdown",
   "id": "1a7b6ab6",
   "metadata": {},
   "source": [
    "\n",
    "The function iterate through the longest list and replace the missing elements in the shorter lists with a default value (such as 0)\n",
    "\n",
    "the max_len variable is set to the length of the longest list. The inner loop then iterates through the first max_len elements of each list, even if some of the lists have fewer elements than that. If a list has fewer than max_len elements, it is padded with the default value (0) using the extend method.\n",
    "\n",
    "Note that padding the shorter lists with a default value may affect the cosine similarity scores. In particular, if the default value is significantly different from the actual values in the list, it may artificially reduce the similarity score between pairs of items that have missing values."
   ]
  },
  {
   "cell_type": "code",
   "execution_count": 80,
   "id": "7456efab",
   "metadata": {},
   "outputs": [
    {
     "name": "stdout",
     "output_type": "stream",
     "text": [
      "                                                Pair           Score\n",
      "0  (I would like to buy a new phone. What are the...  tensor(0.7079)\n",
      "1  (My operating system of choice for a new phone...  tensor(0.4574)\n",
      "2  (What are the prices of the phones you describ...  tensor(0.4064)\n",
      "3  (Based on the previous requirements for batter...  tensor(0.2780)\n",
      "4  (Out of these options, which one has the large...  tensor(0.2622)\n",
      "5  (What are their additional features? What does...  tensor(0.0161)\n",
      "6  (Finally, could you give me a top 10 of the be...  tensor(0.0028)\n",
      "7  (Thank you, I am satisfied with questions rega...  tensor(0.0323)\n"
     ]
    }
   ],
   "source": [
    "from sentence_transformers import SentenceTransformer, util\n",
    "import pandas as pd\n",
    "\n",
    "# set pandas options to display all rows and columns\n",
    "pd.set_option('display.max_rows', None)\n",
    "pd.set_option('display.max_columns', None)\n",
    "\n",
    "# initialize the SentenceTransformer model\n",
    "model = SentenceTransformer('all-MiniLM-L6-v2')\n",
    "\n",
    "# list of lists to compare\n",
    "lists = [list1, list2]          ##  --> put here the new list that sort from te previous code\n",
    "\n",
    "# get the length of the longest list\n",
    "max_len = max(len(l) for l in lists)\n",
    "\n",
    "# create a list of pairs and scores\n",
    "pairs = []\n",
    "scores = []\n",
    "\n",
    "# iterate through each pair of lists\n",
    "for i in range(len(lists)-1):\n",
    "    for j in range(i+1, len(lists)):\n",
    "        \n",
    "        # pad the shorter list with default value (0)\n",
    "        if len(lists[i]) < max_len:\n",
    "            lists[i].extend([0] * (max_len - len(lists[i])))\n",
    "        if len(lists[j]) < max_len:\n",
    "            lists[j].extend([0] * (max_len - len(lists[j])))\n",
    "        \n",
    "        # compute the embeddings for the two lists\n",
    "        embeddings1 = model.encode(lists[i], convert_to_tensor=True)\n",
    "        embeddings2 = model.encode(lists[j], convert_to_tensor=True)\n",
    "        \n",
    "        # compute cosine similarities between the embeddings\n",
    "        cosine_scores = util.cos_sim(embeddings1, embeddings2)\n",
    "        \n",
    "        # add the pairs and scores to the lists\n",
    "        for k in range(max_len):\n",
    "            pairs.append((lists[i][k], lists[j][k]))\n",
    "            scores.append(cosine_scores[k][k])\n",
    "\n",
    "# create a pandas DataFrame with the pairs and scores\n",
    "df = pd.DataFrame({'Pair': pairs, 'Score': scores})\n",
    "\n",
    "# display the DataFrame\n",
    "print(df)\n",
    "\n"
   ]
  },
  {
   "cell_type": "code",
   "execution_count": null,
   "id": "3cba7c6e",
   "metadata": {},
   "outputs": [],
   "source": []
  }
 ],
 "metadata": {
  "kernelspec": {
   "display_name": "Python 3 (ipykernel)",
   "language": "python",
   "name": "python3"
  },
  "language_info": {
   "codemirror_mode": {
    "name": "ipython",
    "version": 3
   },
   "file_extension": ".py",
   "mimetype": "text/x-python",
   "name": "python",
   "nbconvert_exporter": "python",
   "pygments_lexer": "ipython3",
   "version": "3.9.7"
  }
 },
 "nbformat": 4,
 "nbformat_minor": 5
}
