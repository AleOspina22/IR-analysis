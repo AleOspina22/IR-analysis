{
 "cells": [
  {
   "cell_type": "markdown",
   "id": "37766500",
   "metadata": {},
   "source": [
    "Text analysis\n",
    "https://www.sbert.net/docs/usage/semantic_textual_similarity.html\n",
    "Given the same information need, how different is query text of different users\n",
    "\n",
    "How query text evolves through conversation.\n",
    "\n",
    "Yes, you can compute similarity between queries with SBERT or some other sentence similarity methods."
   ]
  },
  {
   "cell_type": "markdown",
   "id": "280e33eb",
   "metadata": {},
   "source": [
    "# Creation of the list according to the amount of json file for each topic"
   ]
  },
  {
   "cell_type": "markdown",
   "id": "dd05d9f1",
   "metadata": {},
   "source": [
    "In each list, you find in order the queries of each user for this specific topic."
   ]
  },
  {
   "cell_type": "markdown",
   "id": "7db4822b",
   "metadata": {},
   "source": [
    "This code should loop over each file in the topic1_phone directory and check if it's a JSON file. If it is, it loads the JSON data and extracts the messages that were sent by the specified users (in this case, U04RH7PFJ6Q and YHEJSIM5). It then prints the messages and adds them to a list with a unique name (list1, list2, etc.)."
   ]
  },
  {
   "cell_type": "code",
   "execution_count": 14,
   "id": "c7d57d0a",
   "metadata": {},
   "outputs": [
    {
     "name": "stdout",
     "output_type": "stream",
     "text": [
      "New list name: list1\n",
      "['Can you recommend an Android phone with an excellent camera?', 'the Samsung Galaxy looks cool but my grandma is new to Android - is there a course for elderly people around Bellinzona?', 'awesome, thanks for the info. my little cousin is an expert but I think she spends way too much time on her phone imo… do you have any strategies to help her “disconnect” once in a while?', 'are there specific apps for limiting screen time that you know of?', 'I’ll probably use some of them myself :slightly_smiling_face:', 'do you have any relaxation/meditation tips btw?', 'I’ll definitely try yoga']\n",
      "New list name: list2\n",
      "['I would like to buy a new phone. What are the main aspects that I should consider?', 'My operating system of choice for a new phone is Android. I am looking for a phone with durable battery life, fast performance and a large storage.', 'What are the prices of the phones you described?', 'Based on the previous requirements for battery life, performance, and storage, could you find me Android phones that are below 400 dollars?', 'Out of these options, which one has the largest display and the prettier design?', 'What are their additional features? What does any of those 4 phones have that other phones do not have?', 'Finally, could you give me a top 10 of the best phones, regardless of any price range or operating system.', 'Thank you, I am satisfied with questions regarding phones']\n",
      "New list name: list3\n",
      "['Imagine you are buying a phone and you are interested in things to consider when buying one\\n', 'I’m looking for a device with good battery life and amazing camera quality. What do you suggest?', 'What if I drop the phone and break the screen? How much does it cost to replace it?', 'Is there a phone model that i can use for taking underwater pictures?', 'Thank you, very useful!']\n",
      "New list name: list4\n",
      "['Imagine you are buying a phone and you are interested in things to consider when buying one.', 'Which phone is the cheapier?', 'I prefer phone with a small screen side and a long life battery. What brand should I see?', 'what can you say about phone’s color?', 'My phone falls every day: what is the best phone for me?', 'If you consider all my quests, which phone do you suggest?', 'Thank you, we change the topic.']\n",
      "New list name: list5\n",
      "['Hi again, can you help me choosing a new phone?', 'I would like to buy an iOS phone but which costs not more than 1200 euros.', 'What about iPhone 14?', 'Do you know if iPhone phones will have a type-c charger in the future or will they keep the same lighting technology?', 'What would be the cheapest iOS phone with 512 GB of internal memory?']\n",
      "New list name: list6\n",
      "['Imagine you are buying a phone and you are interested in things to consider when buying one.\\n', 'So as I’m a businessman, which model has big space for data, photos etc.?', 'I would prefer to use iOS. Which model do you consider with at least 512GB of space?', 'Is the iPhone 13 Pro Max also capacable for multiple meetings and calls, most important video calls?', 'Good, so I would like to know the price range of the iPhone 13 Pro Max with 1TB of space. How much does it cost then and which colors are available?', 'Is there any other gadgets that come with the iPhone?', 'Is it better to buy a fast-charging adapter afterwards, so I can charge very fast?', 'Very good. And I also would like to know if you can charge the phone without the cable, it’s there any system that allows you to charge without a cable?', 'Ok, so do you also offer matching cases with that system, so that it is compatable?', 'Ok, thank you anyways. So I would like to know the final price of the iPhone 13 Pro Max, with 1TB space in sierra blue. How long is the delivery going to take?']\n"
     ]
    }
   ],
   "source": [
    "\n",
    "import os\n",
    "import json\n",
    "\n",
    "\n",
    "\n",
    "# Define the users we're interested in\n",
    "users = [\"U04RH7PFJ6Q\", \"U04Q81LB5SL\"]\n",
    "\n",
    "# Define the directory containing the JSON files\n",
    "directory = '/Users/alejandroospina/Desktop/1. USI/4. IV SEMESTER/1. Thesis/ConversationalThesis/SplitOfConversationbyTopic/textAnalysisByTopic/topic1_phone'\n",
    "\n",
    "# Define a counter variable to generate unique list names\n",
    "counter = 1\n",
    "\n",
    "# Loop over each file in the directory\n",
    "for filename in os.listdir(directory):\n",
    "    # Check that the file is a JSON file\n",
    "    if filename.endswith(\".json\"):\n",
    "        # Open the file and load the JSON data\n",
    "        with open(os.path.join(directory, filename)) as f:\n",
    "            data = json.load(f)\n",
    "            \n",
    "        # Extract the messages from the data that were sent by the specified users\n",
    "        messages = [msg[\"text\"] for msg in data if msg[\"user\"] in users]\n",
    "        \n",
    "        # Remove the first element of the messages list\n",
    "        messages = messages[2:]\n",
    "        \n",
    "        # Rename the list with a unique name\n",
    "        new_list_name = \"list{}\".format(counter)\n",
    "        counter += 1\n",
    "        globals()[new_list_name] = messages\n",
    "        \n",
    "        # Print the messages and the new list name\n",
    "        print(\"New list name:\", new_list_name)\n",
    "        print(messages)\n",
    "     \n"
   ]
  },
  {
   "cell_type": "markdown",
   "id": "35d04017",
   "metadata": {},
   "source": [
    "# Calculate the similarity between the sentences of each user"
   ]
  },
  {
   "cell_type": "markdown",
   "id": "1a854262",
   "metadata": {},
   "source": [
    "\n",
    "The function iterate through the longest list and replace the missing elements in the shorter lists with a default value (such as 0)\n",
    "\n",
    "the max_len variable is set to the length of the longest list. The inner loop then iterates through the first max_len elements of each list, even if some of the lists have fewer elements than that. If a list has fewer than max_len elements, it is padded with the default value (0) using the extend method.\n",
    "\n",
    "Note that padding the shorter lists with a default value may affect the cosine similarity scores. In particular, if the default value is significantly different from the actual values in the list, it may artificially reduce the similarity score between pairs of items that have missing values."
   ]
  },
  {
   "cell_type": "code",
   "execution_count": 18,
   "id": "63fc9b43",
   "metadata": {},
   "outputs": [],
   "source": [
    "# export the DataFrame to a CSV file\n",
    "df.to_csv('output.csv', index=False)\n"
   ]
  },
  {
   "cell_type": "code",
   "execution_count": 24,
   "id": "56b8b088",
   "metadata": {},
   "outputs": [
    {
     "name": "stdout",
     "output_type": "stream",
     "text": [
      "New run list name: run1\n",
      "['Can you recommend an Android phone with an excellent camera?', 'I would like to buy a new phone. What are the main aspects that I should consider?', 'Imagine you are buying a phone and you are interested in things to consider when buying one\\n', 'Imagine you are buying a phone and you are interested in things to consider when buying one.', 'Hi again, can you help me choosing a new phone?', 'Imagine you are buying a phone and you are interested in things to consider when buying one.\\n']\n",
      "Similarity score for run1: 0.40366531460461086\n",
      "New run list name: run2\n",
      "['the Samsung Galaxy looks cool but my grandma is new to Android - is there a course for elderly people around Bellinzona?', 'My operating system of choice for a new phone is Android. I am looking for a phone with durable battery life, fast performance and a large storage.', 'I’m looking for a device with good battery life and amazing camera quality. What do you suggest?', 'Which phone is the cheapier?', 'I would like to buy an iOS phone but which costs not more than 1200 euros.', 'So as I’m a businessman, which model has big space for data, photos etc.?']\n",
      "Similarity score for run2: 0.24551267798649926\n",
      "New run list name: run3\n",
      "['awesome, thanks for the info. my little cousin is an expert but I think she spends way too much time on her phone imo… do you have any strategies to help her “disconnect” once in a while?', 'What are the prices of the phones you described?', 'What if I drop the phone and break the screen? How much does it cost to replace it?', 'I prefer phone with a small screen side and a long life battery. What brand should I see?', 'What about iPhone 14?', 'I would prefer to use iOS. Which model do you consider with at least 512GB of space?']\n",
      "Similarity score for run3: 0.22955930785323592\n",
      "New run list name: run4\n",
      "['are there specific apps for limiting screen time that you know of?', 'Based on the previous requirements for battery life, performance, and storage, could you find me Android phones that are below 400 dollars?', 'Is there a phone model that i can use for taking underwater pictures?', 'what can you say about phone’s color?', 'Do you know if iPhone phones will have a type-c charger in the future or will they keep the same lighting technology?', 'Is the iPhone 13 Pro Max also capacable for multiple meetings and calls, most important video calls?']\n",
      "Similarity score for run4: 0.23012609059800548\n",
      "New run list name: run5\n",
      "['I’ll probably use some of them myself :slightly_smiling_face:', 'Out of these options, which one has the largest display and the prettier design?', 'Thank you, very useful!', 'My phone falls every day: what is the best phone for me?', 'What would be the cheapest iOS phone with 512 GB of internal memory?', 'Good, so I would like to know the price range of the iPhone 13 Pro Max with 1TB of space. How much does it cost then and which colors are available?']\n",
      "Similarity score for run5: 0.21591634652822644\n",
      "New run list name: run6\n",
      "['do you have any relaxation/meditation tips btw?', 'What are their additional features? What does any of those 4 phones have that other phones do not have?', 0, 'If you consider all my quests, which phone do you suggest?', 0, 'Is there any other gadgets that come with the iPhone?']\n",
      "Similarity score for run6: 0.1470684652624818\n",
      "New run list name: run7\n",
      "['I’ll definitely try yoga', 'Finally, could you give me a top 10 of the best phones, regardless of any price range or operating system.', 0, 'Thank you, we change the topic.', 0, 'Is it better to buy a fast-charging adapter afterwards, so I can charge very fast?']\n",
      "Similarity score for run7: 0.1182759346569002\n",
      "New run list name: run8\n",
      "[0, 'Thank you, I am satisfied with questions regarding phones', 0, 0, 0, 'Very good. And I also would like to know if you can charge the phone without the cable, it’s there any system that allows you to charge without a cable?']\n",
      "Similarity score for run8: 0.05989202628360351\n",
      "New run list name: run9\n",
      "[0, 0, 0, 0, 0, 'Ok, so do you also offer matching cases with that system, so that it is compatable?']\n",
      "Similarity score for run9: 0.027777777777777776\n",
      "New run list name: run10\n",
      "[0, 0, 0, 0, 0, 'Ok, thank you anyways. So I would like to know the final price of the iPhone 13 Pro Max, with 1TB space in sierra blue. How long is the delivery going to take?']\n",
      "Similarity score for run10: 0.027777777777777773\n"
     ]
    }
   ],
   "source": [
    "import os\n",
    "import json\n",
    "import matplotlib.pyplot as plt\n",
    "from sklearn.feature_extraction.text import TfidfVectorizer\n",
    "from sklearn.metrics.pairwise import cosine_similarity\n",
    "\n",
    "def get_similarity_score(run_list):\n",
    "    # Convert all elements in the run_list to strings\n",
    "    run_list = [str(item) for item in run_list]\n",
    "\n",
    "    # Instantiate TfidfVectorizer\n",
    "    vectorizer = TfidfVectorizer()\n",
    "\n",
    "    # Transform the texts into tf-idf vectors\n",
    "    tfidf_matrix = vectorizer.fit_transform(run_list)\n",
    "\n",
    "    # Calculate the cosine similarity between the vectors\n",
    "    similarity_matrix = cosine_similarity(tfidf_matrix)\n",
    "\n",
    "    # Compute the average similarity score\n",
    "    similarity_score = similarity_matrix.mean()\n",
    "\n",
    "    return similarity_score\n",
    "\n",
    "# Find the length of the longest list\n",
    "max_length = max(len(list1), len(list2), len(list3), len(list4), len(list5), len(list6)) ##  --> put here the new list that sort from te previous code\n",
    "\n",
    "\n",
    "# Create a dictionary to store similarity scores for each run list\n",
    "similarity_scores = {}\n",
    "\n",
    "# Create new lists (run1, run2, etc.) and compute similarity scores\n",
    "for i in range(max_length):\n",
    "    run_list_name = \"run{}\".format(i + 1)\n",
    "    run_list = [globals()[\"list{}\".format(j)][i] for j in range(1, counter) if i < len(globals()[\"list{}\".format(j)])]\n",
    "    globals()[run_list_name] = run_list\n",
    "\n",
    "    # Compute similarity score for the current run list\n",
    "    similarity_score = get_similarity_score(run_list)\n",
    "    similarity_scores[run_list_name] = similarity_score\n",
    "\n",
    "    # Print the messages, new run list name, and similarity score\n",
    "    print(\"New run list name:\", run_list_name)\n",
    "    print(run_list)\n",
    "    print(\"Similarity score for {}: {}\".format(run_list_name, similarity_score))\n",
    "\n",
    "\n"
   ]
  },
  {
   "cell_type": "code",
   "execution_count": 23,
   "id": "b0a65cd6",
   "metadata": {},
   "outputs": [
    {
     "data": {
      "image/png": "[encoded data removed]",
      "text/plain": [
       "<Figure size 432x288 with 1 Axes>"
      ]
     },
     "metadata": {
      "needs_background": "light"
     },
     "output_type": "display_data"
    }
   ],
   "source": [
    "# Plot the bar chart\n",
    "plt.bar(similarity_scores.keys(), similarity_scores.values())\n",
    "plt.xlabel(\"Run List\")\n",
    "plt.ylabel(\"Similarity Score\")\n",
    "plt.title(\"Similarity Scores for Run Lists\")\n",
    "plt.show()"
   ]
  },
  {
   "cell_type": "code",
   "execution_count": 33,
   "id": "bbb97b87",
   "metadata": {},
   "outputs": [],
   "source": [
    "def get_similarity_score(run_list):\n",
    "    # Convert all elements in the run_list to strings\n",
    "    run_list = [str(item) for item in run_list]\n",
    "\n",
    "    # Instantiate TfidfVectorizer\n",
    "    vectorizer = TfidfVectorizer()\n",
    "\n",
    "    # Transform the texts into tf-idf vectors\n",
    "    tfidf_matrix = vectorizer.fit_transform(run_list)\n",
    "\n",
    "    # Calculate the cosine similarity between the vectors\n",
    "    similarity_matrix = cosine_similarity(tfidf_matrix)\n",
    "\n",
    "    # Compute the average similarity score\n",
    "    similarity_score = similarity_matrix.mean()\n",
    "\n",
    "    # Compute the variance of the similarity scores\n",
    "    variance_score = similarity_matrix.var()\n",
    "\n",
    "    return similarity_matrix, similarity_score, variance_score\n"
   ]
  },
  {
   "cell_type": "code",
   "execution_count": 34,
   "id": "7d5cccc5",
   "metadata": {},
   "outputs": [],
   "source": [
    "similarity_scores = []\n",
    "variance_scores = []\n"
   ]
  },
  {
   "cell_type": "code",
   "execution_count": 35,
   "id": "e741dd78",
   "metadata": {},
   "outputs": [
    {
     "name": "stdout",
     "output_type": "stream",
     "text": [
      "New run list name: run1\n",
      "['Can you recommend an Android phone with an excellent camera?', 'I would like to buy a new phone. What are the main aspects that I should consider?', 'Imagine you are buying a phone and you are interested in things to consider when buying one\\n', 'Imagine you are buying a phone and you are interested in things to consider when buying one.', 'Hi again, can you help me choosing a new phone?', 'Imagine you are buying a phone and you are interested in things to consider when buying one.\\n']\n",
      "Similarity score for run1: 0.40366531460461086\n",
      "Variance score for run1: 0.1790298632393554\n",
      "New run list name: run2\n",
      "['the Samsung Galaxy looks cool but my grandma is new to Android - is there a course for elderly people around Bellinzona?', 'My operating system of choice for a new phone is Android. I am looking for a phone with durable battery life, fast performance and a large storage.', 'I’m looking for a device with good battery life and amazing camera quality. What do you suggest?', 'Which phone is the cheapier?', 'I would like to buy an iOS phone but which costs not more than 1200 euros.', 'So as I’m a businessman, which model has big space for data, photos etc.?']\n",
      "Similarity score for run2: 0.24551267798649926\n",
      "Variance score for run2: 0.11968134121258228\n",
      "New run list name: run3\n",
      "['awesome, thanks for the info. my little cousin is an expert but I think she spends way too much time on her phone imo… do you have any strategies to help her “disconnect” once in a while?', 'What are the prices of the phones you described?', 'What if I drop the phone and break the screen? How much does it cost to replace it?', 'I prefer phone with a small screen side and a long life battery. What brand should I see?', 'What about iPhone 14?', 'I would prefer to use iOS. Which model do you consider with at least 512GB of space?']\n",
      "Similarity score for run3: 0.22955930785323592\n",
      "Variance score for run3: 0.12130314363177251\n",
      "New run list name: run4\n",
      "['are there specific apps for limiting screen time that you know of?', 'Based on the previous requirements for battery life, performance, and storage, could you find me Android phones that are below 400 dollars?', 'Is there a phone model that i can use for taking underwater pictures?', 'what can you say about phone’s color?', 'Do you know if iPhone phones will have a type-c charger in the future or will they keep the same lighting technology?', 'Is the iPhone 13 Pro Max also capacable for multiple meetings and calls, most important video calls?']\n",
      "Similarity score for run4: 0.23012609059800548\n",
      "Variance score for run4: 0.12109656467647947\n",
      "New run list name: run5\n",
      "['I’ll probably use some of them myself :slightly_smiling_face:', 'Out of these options, which one has the largest display and the prettier design?', 'Thank you, very useful!', 'My phone falls every day: what is the best phone for me?', 'What would be the cheapest iOS phone with 512 GB of internal memory?', 'Good, so I would like to know the price range of the iPhone 13 Pro Max with 1TB of space. How much does it cost then and which colors are available?']\n",
      "Similarity score for run5: 0.21591634652822644\n",
      "Variance score for run5: 0.1271496884906462\n",
      "New run list name: run6\n",
      "['do you have any relaxation/meditation tips btw?', 'What are their additional features? What does any of those 4 phones have that other phones do not have?', 0, 'If you consider all my quests, which phone do you suggest?', 0, 'Is there any other gadgets that come with the iPhone?']\n",
      "Similarity score for run6: 0.1470684652624818\n",
      "Variance score for run6: 0.09561707477131115\n",
      "New run list name: run7\n",
      "['I’ll definitely try yoga', 'Finally, could you give me a top 10 of the best phones, regardless of any price range or operating system.', 0, 'Thank you, we change the topic.', 0, 'Is it better to buy a fast-charging adapter afterwards, so I can charge very fast?']\n",
      "Similarity score for run7: 0.1182759346569002\n",
      "Variance score for run7: 0.09804593892810909\n",
      "New run list name: run8\n",
      "[0, 'Thank you, I am satisfied with questions regarding phones', 0, 0, 0, 'Very good. And I also would like to know if you can charge the phone without the cable, it’s there any system that allows you to charge without a cable?']\n",
      "Similarity score for run8: 0.05989202628360351\n",
      "Variance score for run8: 0.05230699035395366\n",
      "New run list name: run9\n",
      "[0, 0, 0, 0, 0, 'Ok, so do you also offer matching cases with that system, so that it is compatable?']\n",
      "Similarity score for run9: 0.027777777777777776\n",
      "Variance score for run9: 0.027006172839506168\n",
      "New run list name: run10\n",
      "[0, 0, 0, 0, 0, 'Ok, thank you anyways. So I would like to know the final price of the iPhone 13 Pro Max, with 1TB space in sierra blue. How long is the delivery going to take?']\n",
      "Similarity score for run10: 0.027777777777777773\n",
      "Variance score for run10: 0.02700617283950616\n"
     ]
    }
   ],
   "source": [
    "for i in range(max_length):\n",
    "    run_list_name = \"run{}\".format(i + 1)\n",
    "    run_list = [globals()[\"list{}\".format(j)][i] for j in range(1, counter) if i < len(globals()[\"list{}\".format(j)])]\n",
    "    globals()[run_list_name] = run_list\n",
    "\n",
    "    # Compute similarity score and variance score for the current run list\n",
    "    similarity_matrix, similarity_score, variance_score = get_similarity_score(run_list)\n",
    "    similarity_scores.append(similarity_score)\n",
    "    variance_scores.append(variance_score)\n",
    "\n",
    "    # Print the messages, new run list name, similarity score, and variance score\n",
    "    print(\"New run list name:\", run_list_name)\n",
    "    print(run_list)\n",
    "    print(\"Similarity score for {}: {}\".format(run_list_name, similarity_score))\n",
    "    print(\"Variance score for {}: {}\".format(run_list_name, variance_score))\n"
   ]
  },
  {
   "cell_type": "code",
   "execution_count": 36,
   "id": "0dc21ddf",
   "metadata": {},
   "outputs": [
    {
     "data": {
      "image/png": "[encoded data removed]",
      "text/plain": [
       "<Figure size 432x288 with 1 Axes>"
      ]
     },
     "metadata": {
      "needs_background": "light"
     },
     "output_type": "display_data"
    }
   ],
   "source": [
    "# Create a list of run list names\n",
    "run_list_names = [\"run{}\".format(i + 1) for i in range(max_length)]\n",
    "\n",
    "# Plot the similarity scores and variance scores\n",
    "fig, ax = plt.subplots()\n",
    "ax.plot(run_list_names, similarity_scores, label=\"Similarity Score\")\n",
    "ax.plot(run_list_names, variance_scores, label=\"Variance Score\")\n",
    "ax.legend()\n",
    "ax.set_title(\"Similarity and Variance Scores for Each Run List\")\n",
    "ax.set_xlabel(\"Run List\")\n",
    "ax.set_ylabel(\"Score\")\n",
    "plt.show()\n"
   ]
  },
  {
   "cell_type": "markdown",
   "id": "6f1ddf09",
   "metadata": {},
   "source": [
    "A similarity score measures how similar two or more items are to each other. It is usually expressed as a value between 0 and 1, where 0 indicates no similarity and 1 indicates perfect similarity. In the context of text analysis, a similarity score can be used to measure the similarity between two or more pieces of text based on various features such as word usage, sentence structure, and so on.\n",
    "\n",
    "A variance score, on the other hand, measures the amount of variability or spread in a set of values. It is a measure of how far the individual values in a distribution are from the mean value of the distribution. A high variance score indicates that the values are spread out widely from the mean, while a low variance score indicates that the values are clustered closely around the mean. In the context of text analysis, a variance score can be used to measure how much the similarity scores of different texts vary from each other.\n",
    "\n",
    "So, while a similarity score measures how similar two or more items are to each other, a variance score measures how much the similarity scores of different items vary from each other. Both similarity scores and variance scores can be useful in different ways for text analysis, depending on the specific research question or application."
   ]
  },
  {
   "cell_type": "markdown",
   "id": "6e60cffa",
   "metadata": {},
   "source": [
    "A variance score of 0 indicates no variation at all (i.e., all similarity scores are the same), while a variance score of 1 indicates maximum variation (i.e., the similarity scores are spread out as far as possible from the mean score). Therefore, a variance score of 0.179 indicates a moderate level of variation, which suggests that there may be some diversity in the content or style of the texts in run1."
   ]
  },
  {
   "cell_type": "code",
   "execution_count": 43,
   "id": "bfded184",
   "metadata": {},
   "outputs": [
    {
     "name": "stdout",
     "output_type": "stream",
     "text": [
      "Number of new words in run1: 31\n",
      "Number of new words in run2: 14\n",
      "Number of new words in run3: 6\n",
      "Number of new words in run4: 2\n",
      "Number of new words in run5: 4\n",
      "Number of new words in run6: 1\n",
      "Number of new words in run7: 1\n",
      "Number of new words in run8: 1\n",
      "Number of new words in run9: 0\n",
      "Number of new words in run10: 0\n"
     ]
    },
    {
     "data": {
      "image/png": "[encoded data removed]",
      "text/plain": [
       "<Figure size 432x288 with 1 Axes>"
      ]
     },
     "metadata": {
      "needs_background": "light"
     },
     "output_type": "display_data"
    }
   ],
   "source": [
    "from collections import Counter\n",
    "import os\n",
    "import json\n",
    "import matplotlib.pyplot as plt\n",
    "from sklearn.feature_extraction.text import TfidfVectorizer\n",
    "from sklearn.metrics.pairwise import cosine_similarity\n",
    "\n",
    "# Find the length of the longest list\n",
    "max_length = max(len(list1), len(list2), len(list3), len(list4), len(list5), len(list6)) ##  --> put here the new list that sort from te previous code\n",
    "\n",
    "# Initialize a set to store the unique words in all run lists\n",
    "all_words = set()\n",
    "\n",
    "# Initialize lists to store the number of new words and the total number of words in each run list\n",
    "new_word_counts = []\n",
    "total_word_counts = []\n",
    "\n",
    "# Iterate over each run list\n",
    "for i in range(max_length):\n",
    "    run_list_name = \"run{}\".format(i + 1)\n",
    "    \n",
    "    # Concatenate all the run lists into a single list\n",
    "    all_items = []\n",
    "    for j in range(1, counter):\n",
    "        if i < len(globals()[\"list{}\".format(j)]):\n",
    "            if isinstance(globals()[\"list{}\".format(j)][i], (list, str)):\n",
    "                all_items.extend(globals()[\"list{}\".format(j)][i])\n",
    "\n",
    "    # Compute the unique words in the current run list that are not present in previous run lists\n",
    "    new_words = set(all_items) - all_words\n",
    "\n",
    "    # Compute the total number of words in the current run list and add it to the total word counts\n",
    "    total_word_count = len(all_items)\n",
    "    total_word_counts.append(total_word_count)\n",
    "\n",
    "    # Compute the number of new words and add it to the new word counts\n",
    "    new_word_count = len(new_words)\n",
    "    new_word_counts.append(new_word_count)\n",
    "\n",
    "    # Print the number of new words and add them to the set of all words\n",
    "    print(\"Number of new words in {}: {}\".format(run_list_name, new_word_count))\n",
    "    all_words.update(new_words)\n",
    "\n",
    "# Create a bar chart of the new word counts and total word counts for each run list\n",
    "plt.bar(range(1, max_length+1), new_word_counts, label=\"New words\")\n",
    "plt.bar(range(1, max_length+1), total_word_counts, bottom=new_word_counts, label=\"Total words\")\n",
    "plt.xlabel(\"Run List\")\n",
    "plt.ylabel(\"Number of Words\")\n",
    "plt.title(\"New and Total Words in Each Run List\")\n",
    "plt.legend()\n",
    "plt.show()\n"
   ]
  },
  {
   "cell_type": "markdown",
   "id": "8051d539",
   "metadata": {},
   "source": [
    "This code initializes two lists new_word_counts and total_word_counts to store the number of new words and the total number of words in each run list. It then iterates over each run list, concatenates all the lists into a single list, computes the number of new words and total words, and adds them to the respective lists. Finally, it creates a bar chart of the new and total word counts for each run list using Matplotlib.\n",
    "\n",
    "The resulting bar chart will show the number of new words and the total number of words in each run list. The height of the blue bars represents the number of new words, while the height of the orange bars represents the total number of words."
   ]
  },
  {
   "cell_type": "markdown",
   "id": "20197d0e",
   "metadata": {},
   "source": [
    "# Conclusion"
   ]
  },
  {
   "cell_type": "markdown",
   "id": "255df608",
   "metadata": {},
   "source": [
    "Similarity scores: The similarity scores range from 0.06 to 0.40. This suggests that there is a moderate level of similarity between the texts in each run list. A similarity score of 1 would indicate identical texts, whereas a score of 0 would indicate completely dissimilar texts.\n",
    "\n",
    "Variance scores: The variance scores range from 0.03 to 0.18. This suggests that the texts in each run list have some degree of variation, with some lists having more variation than others. A variance score of 0 would indicate that all the texts in the run list are identical.\n",
    "\n",
    "New words: The number of new words in each run list ranges from 0 to 31. This suggests that some run lists have more new words than others. A higher number of new words could indicate a greater diversity of topics or a greater level of specificity in the questions being asked."
   ]
  },
  {
   "cell_type": "code",
   "execution_count": null,
   "id": "39515590",
   "metadata": {},
   "outputs": [],
   "source": []
  }
 ],
 "metadata": {
  "kernelspec": {
   "display_name": "Python 3 (ipykernel)",
   "language": "python",
   "name": "python3"
  },
  "language_info": {
   "codemirror_mode": {
    "name": "ipython",
    "version": 3
   },
   "file_extension": ".py",
   "mimetype": "text/x-python",
   "name": "python",
   "nbconvert_exporter": "python",
   "pygments_lexer": "ipython3",
   "version": "3.9.7"
  }
 },
 "nbformat": 4,
 "nbformat_minor": 5
}
